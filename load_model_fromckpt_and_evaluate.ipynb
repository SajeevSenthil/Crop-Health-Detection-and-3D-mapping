{
 "cells": [
  {
   "cell_type": "code",
   "execution_count": 1,
   "metadata": {
    "jupyter": {
     "is_executing": true
    }
   },
   "outputs": [],
   "source": [
    "import os\n",
    "\n",
    "IMAGE_PATH = []\n",
    "\n",
    "#get all the image paths\n",
    "for root,dirs,files in os.walk(\"C:\\\\Projects\\\\jopan project\\\\Tensorflow\\\\workspace\\\\images\\\\test\"):\n",
    "\n",
    "    for file in files:\n",
    "        if(file.endswith(\".jpg\")):\n",
    "            IMAGE_PATH.append(os.path.join(root,file))\n"
   ]
  },
  {
   "cell_type": "code",
   "execution_count": 2,
   "metadata": {},
   "outputs": [
    {
     "data": {
      "text/plain": [
       "12"
      ]
     },
     "execution_count": 2,
     "metadata": {},
     "output_type": "execute_result"
    }
   ],
   "source": [
    "len(IMAGE_PATH)"
   ]
  },
  {
   "cell_type": "code",
   "execution_count": 6,
   "metadata": {},
   "outputs": [
    {
     "name": "stdout",
     "output_type": "stream",
     "text": [
      "Loading model... Done! Took 1.0406033992767334 seconds\n"
     ]
    }
   ],
   "source": [
    "import time\n",
    "from object_detection.utils import label_map_util\n",
    "from object_detection.utils import config_util\n",
    "from object_detection.utils import visualization_utils as viz_utils\n",
    "from object_detection.builders import model_builder\n",
    "import tensorflow as tf\n",
    "\n",
    "PATH_TO_CFG = \"C:\\\\Projects\\\\jopan project\\\\Tensorflow\\\\workspace\\\\models\\\\Mobilenet640\\\\pipeline.config\"\n",
    "PATH_TO_CKPT = \"C:\\\\Projects\\\\jopan project\\\\Tensorflow\\\\workspace\\\\models\\\\Mobilenet640\"\n",
    "\n",
    "print('Loading model... ', end='')\n",
    "start_time = time.time()\n",
    "\n",
    "# Load pipeline config and build a detection model\n",
    "configs = config_util.get_configs_from_pipeline_file(PATH_TO_CFG)\n",
    "model_config = configs['model']\n",
    "detection_model = model_builder.build(model_config=model_config, is_training=False)\n",
    "\n",
    "# Restore checkpoint\n",
    "ckpt = tf.compat.v2.train.Checkpoint(model=detection_model)\n",
    "ckpt.restore(os.path.join(PATH_TO_CKPT, 'ckpt-12')).expect_partial()\n",
    "\n",
    "@tf.function\n",
    "def detect_fn(image):\n",
    "    \"\"\"Detect objects in image.\"\"\"\n",
    "\n",
    "    image, shapes = detection_model.preprocess(image)\n",
    "    prediction_dict = detection_model.predict(image, shapes)\n",
    "    detections = detection_model.postprocess(prediction_dict, shapes)\n",
    "\n",
    "    return detections\n",
    "\n",
    "end_time = time.time()\n",
    "elapsed_time = end_time - start_time\n",
    "print('Done! Took {} seconds'.format(elapsed_time))"
   ]
  },
  {
   "cell_type": "code",
   "execution_count": 7,
   "metadata": {},
   "outputs": [],
   "source": [
    "category_index = label_map_util.create_category_index_from_labelmap(\"C:\\\\Projects\\\\jopan project\\\\Tensorflow\\\\workspace\\\\annotations\\\\label_map.pbtxt\",\n",
    "                                                                    use_display_name=True)"
   ]
  },
  {
   "cell_type": "code",
   "execution_count": 8,
   "metadata": {},
   "outputs": [
    {
     "name": "stdout",
     "output_type": "stream",
     "text": [
      "Running inference for C:\\Projects\\jopan project\\Tensorflow\\workspace\\images\\test\\healthy25.jpg... Saved to C:\\Projects\\jopan project\\op\\healthy25.jpg\n",
      "Running inference for C:\\Projects\\jopan project\\Tensorflow\\workspace\\images\\test\\healthy26.jpg... Saved to C:\\Projects\\jopan project\\op\\healthy26.jpg\n",
      "Running inference for C:\\Projects\\jopan project\\Tensorflow\\workspace\\images\\test\\healthy27.jpg... Saved to C:\\Projects\\jopan project\\op\\healthy27.jpg\n",
      "Running inference for C:\\Projects\\jopan project\\Tensorflow\\workspace\\images\\test\\healthy28.jpg... Saved to C:\\Projects\\jopan project\\op\\healthy28.jpg\n",
      "Running inference for C:\\Projects\\jopan project\\Tensorflow\\workspace\\images\\test\\healthy29.jpg... Saved to C:\\Projects\\jopan project\\op\\healthy29.jpg\n",
      "Running inference for C:\\Projects\\jopan project\\Tensorflow\\workspace\\images\\test\\healthy30.jpg... Saved to C:\\Projects\\jopan project\\op\\healthy30.jpg\n",
      "Running inference for C:\\Projects\\jopan project\\Tensorflow\\workspace\\images\\test\\unhealthy25.jpg... Saved to C:\\Projects\\jopan project\\op\\unhealthy25.jpg\n",
      "Running inference for C:\\Projects\\jopan project\\Tensorflow\\workspace\\images\\test\\unhealthy26.jpg... Saved to C:\\Projects\\jopan project\\op\\unhealthy26.jpg\n",
      "Running inference for C:\\Projects\\jopan project\\Tensorflow\\workspace\\images\\test\\unhealthy27.jpg... Saved to C:\\Projects\\jopan project\\op\\unhealthy27.jpg\n",
      "Running inference for C:\\Projects\\jopan project\\Tensorflow\\workspace\\images\\test\\unhealthy28.jpg... WARNING:tensorflow:5 out of the last 10 calls to <function detect_fn at 0x000001EEDF675040> triggered tf.function retracing. Tracing is expensive and the excessive number of tracings could be due to (1) creating @tf.function repeatedly in a loop, (2) passing tensors with different shapes, (3) passing Python objects instead of tensors. For (1), please define your @tf.function outside of the loop. For (2), @tf.function has reduce_retracing=True option that can avoid unnecessary retracing. For (3), please refer to https://www.tensorflow.org/guide/function#controlling_retracing and https://www.tensorflow.org/api_docs/python/tf/function for  more details.\n"
     ]
    },
    {
     "name": "stderr",
     "output_type": "stream",
     "text": [
      "WARNING:tensorflow:5 out of the last 10 calls to <function detect_fn at 0x000001EEDF675040> triggered tf.function retracing. Tracing is expensive and the excessive number of tracings could be due to (1) creating @tf.function repeatedly in a loop, (2) passing tensors with different shapes, (3) passing Python objects instead of tensors. For (1), please define your @tf.function outside of the loop. For (2), @tf.function has reduce_retracing=True option that can avoid unnecessary retracing. For (3), please refer to https://www.tensorflow.org/guide/function#controlling_retracing and https://www.tensorflow.org/api_docs/python/tf/function for  more details.\n"
     ]
    },
    {
     "name": "stdout",
     "output_type": "stream",
     "text": [
      "Saved to C:\\Projects\\jopan project\\op\\unhealthy28.jpg\n",
      "Running inference for C:\\Projects\\jopan project\\Tensorflow\\workspace\\images\\test\\unhealthy29.jpg... Saved to C:\\Projects\\jopan project\\op\\unhealthy29.jpg\n",
      "Running inference for C:\\Projects\\jopan project\\Tensorflow\\workspace\\images\\test\\unhealthy30.jpg... Saved to C:\\Projects\\jopan project\\op\\unhealthy30.jpg\n",
      "Inference completed and images saved.\n"
     ]
    }
   ],
   "source": [
    "import numpy as np\n",
    "from PIL import Image\n",
    "import tensorflow as tf\n",
    "import os\n",
    "import warnings\n",
    "import time\n",
    "warnings.filterwarnings('ignore')  \n",
    "\n",
    "def load_image_into_numpy_array(path):\n",
    "\n",
    "    return np.array(Image.open(path))\n",
    "\n",
    "\n",
    "OUTPUT_DIR = \"C:\\\\Projects\\\\jopan project\\\\op\"\n",
    "os.makedirs(OUTPUT_DIR, exist_ok=True)  \n",
    "\n",
    "latency = []\n",
    "\n",
    "for image_path in IMAGE_PATH:\n",
    "    print('Running inference for {}... '.format(image_path), end='')\n",
    "    begin_time = float(time.time())\n",
    "\n",
    "    # Load image\n",
    "    image_np = load_image_into_numpy_array(image_path)\n",
    "\n",
    "    # Convert to tensor\n",
    "    input_tensor = tf.convert_to_tensor(np.expand_dims(image_np, 0), dtype=tf.float32)\n",
    "\n",
    "    # Perform detection\n",
    "    detections = detect_fn(input_tensor)\n",
    "\n",
    "    \n",
    "    final_time = time.time()\n",
    "    \n",
    "\n",
    "    # Extract detections\n",
    "    num_detections = int(detections.pop('num_detections'))\n",
    "    detections = {key: value[0, :num_detections].numpy()\n",
    "                  for key, value in detections.items()}\n",
    "    detections['num_detections'] = num_detections\n",
    "\n",
    "    # Cast detection_classes to int64\n",
    "    detections['detection_classes'] = detections['detection_classes'].astype(np.int64)\n",
    "\n",
    "    # Add label offset\n",
    "    label_id_offset = 1\n",
    "    image_np_with_detections = image_np.copy()\n",
    "\n",
    "\n",
    "\n",
    "    # Visualize detections on image\n",
    "    viz_utils.visualize_boxes_and_labels_on_image_array(\n",
    "        image_np_with_detections,\n",
    "        detections['detection_boxes'],\n",
    "        detections['detection_classes'] ,\n",
    "        detections['detection_scores'],\n",
    "        category_index,\n",
    "        use_normalized_coordinates=True,\n",
    "        max_boxes_to_draw=5,\n",
    "        min_score_thresh=0.5,\n",
    "        agnostic_mode=False)\n",
    "    \n",
    "    \n",
    "    # Save the image with detections\n",
    "    output_path = os.path.join(OUTPUT_DIR, os.path.basename(image_path))\n",
    "    Image.fromarray(image_np_with_detections).save(output_path)\n",
    "    latency.append(final_time - begin_time)\n",
    "    print('Saved to {}'.format(output_path))\n",
    "\n",
    "print(\"Inference completed and images saved.\")\n"
   ]
  },
  {
   "cell_type": "code",
   "execution_count": 9,
   "metadata": {},
   "outputs": [],
   "source": [
    "def calculate_fps(latency_arr):\n",
    "\n",
    "    fps = []\n",
    "    for a in latency_arr[2:]:\n",
    "        f = 1/a\n",
    "        fps.append(f)\n",
    "\n",
    "    return fps"
   ]
  },
  {
   "cell_type": "code",
   "execution_count": 10,
   "metadata": {},
   "outputs": [],
   "source": [
    "mean_latency = np.mean(latency)\n",
    "mean_fps = np.mean(calculate_fps(latency))"
   ]
  },
  {
   "cell_type": "code",
   "execution_count": 11,
   "metadata": {},
   "outputs": [
    {
     "data": {
      "text/plain": [
       "2.5053529739379883"
      ]
     },
     "execution_count": 11,
     "metadata": {},
     "output_type": "execute_result"
    }
   ],
   "source": [
    "mean_latency"
   ]
  },
  {
   "cell_type": "code",
   "execution_count": 12,
   "metadata": {},
   "outputs": [
    {
     "data": {
      "text/plain": [
       "2.2634815512160253"
      ]
     },
     "execution_count": 12,
     "metadata": {},
     "output_type": "execute_result"
    }
   ],
   "source": [
    "mean_fps"
   ]
  },
  {
   "cell_type": "code",
   "execution_count": 12,
   "metadata": {},
   "outputs": [],
   "source": [
    "lar = np.array(latency)"
   ]
  },
  {
   "cell_type": "code",
   "execution_count": 15,
   "metadata": {},
   "outputs": [],
   "source": [
    "arr = np.array(latency)"
   ]
  },
  {
   "cell_type": "code",
   "execution_count": null,
   "metadata": {},
   "outputs": [],
   "source": []
  },
  {
   "cell_type": "code",
   "execution_count": null,
   "metadata": {},
   "outputs": [],
   "source": []
  }
 ],
 "metadata": {
  "kernelspec": {
   "display_name": "tfobj",
   "language": "python",
   "name": "python3"
  },
  "language_info": {
   "codemirror_mode": {
    "name": "ipython",
    "version": 3
   },
   "file_extension": ".py",
   "mimetype": "text/x-python",
   "name": "python",
   "nbconvert_exporter": "python",
   "pygments_lexer": "ipython3",
   "version": "3.9.20"
  }
 },
 "nbformat": 4,
 "nbformat_minor": 2
}
